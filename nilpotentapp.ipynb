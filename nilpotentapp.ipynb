{
  "nbformat": 4,
  "nbformat_minor": 0,
  "metadata": {
    "colab": {
      "name": "ACS.ipynb",
      "provenance": [],
      "collapsed_sections": [],
      "authorship_tag": "ABX9TyP8xWJoKBkEcJDfRk7SEgqz",
      "include_colab_link": true
    },
    "kernelspec": {
      "name": "python3",
      "display_name": "Python 3"
    },
    "language_info": {
      "name": "python"
    },
    "widgets": {
      "application/vnd.jupyter.widget-state+json": {
        "b2f4ecaaf111476ca2670cbc6779410d": {
          "model_module": "@jupyter-widgets/controls",
          "model_name": "VBoxModel",
          "state": {
            "_view_name": "VBoxView",
            "_dom_classes": [],
            "_model_name": "VBoxModel",
            "_view_module": "@jupyter-widgets/controls",
            "_model_module_version": "1.5.0",
            "_view_count": null,
            "_view_module_version": "1.5.0",
            "box_style": "",
            "layout": "IPY_MODEL_9ff0b0a480f84bed8515d4ae4d7227ee",
            "_model_module": "@jupyter-widgets/controls",
            "children": [
              "IPY_MODEL_c5cd0c027fd04b2f91cfa23635a840f4",
              "IPY_MODEL_f1301c3403d94db8a1eb782e3a5679c0",
              "IPY_MODEL_06128ca16ff245089e8ab5268042a0a2"
            ]
          }
        },
        "9ff0b0a480f84bed8515d4ae4d7227ee": {
          "model_module": "@jupyter-widgets/base",
          "model_name": "LayoutModel",
          "state": {
            "_view_name": "LayoutView",
            "grid_template_rows": null,
            "right": null,
            "justify_content": null,
            "_view_module": "@jupyter-widgets/base",
            "overflow": null,
            "_model_module_version": "1.2.0",
            "_view_count": null,
            "flex_flow": null,
            "width": null,
            "min_width": null,
            "border": null,
            "align_items": "center",
            "bottom": null,
            "_model_module": "@jupyter-widgets/base",
            "top": null,
            "grid_column": null,
            "overflow_y": null,
            "overflow_x": null,
            "grid_auto_flow": null,
            "grid_area": null,
            "grid_template_columns": null,
            "flex": null,
            "_model_name": "LayoutModel",
            "justify_items": null,
            "grid_row": null,
            "max_height": null,
            "align_content": null,
            "visibility": null,
            "align_self": null,
            "height": null,
            "min_height": null,
            "padding": null,
            "grid_auto_rows": null,
            "grid_gap": null,
            "max_width": null,
            "order": null,
            "_view_module_version": "1.2.0",
            "grid_template_areas": null,
            "object_position": null,
            "object_fit": null,
            "grid_auto_columns": null,
            "margin": null,
            "display": null,
            "left": null
          }
        },
        "c5cd0c027fd04b2f91cfa23635a840f4": {
          "model_module": "@jupyter-widgets/controls",
          "model_name": "HTMLModel",
          "state": {
            "_view_name": "HTMLView",
            "style": "IPY_MODEL_62a0cd744ff44045b277e857ae8a9815",
            "_dom_classes": [],
            "description": "",
            "_model_name": "HTMLModel",
            "placeholder": "​",
            "_view_module": "@jupyter-widgets/controls",
            "_model_module_version": "1.5.0",
            "value": "",
            "_view_count": null,
            "_view_module_version": "1.5.0",
            "description_tooltip": null,
            "_model_module": "@jupyter-widgets/controls",
            "layout": "IPY_MODEL_a6b7ec225f9a4e6dbc4b75e32ce0c324"
          }
        },
        "f1301c3403d94db8a1eb782e3a5679c0": {
          "model_module": "@jupyter-widgets/controls",
          "model_name": "HBoxModel",
          "state": {
            "_view_name": "HBoxView",
            "_dom_classes": [],
            "_model_name": "HBoxModel",
            "_view_module": "@jupyter-widgets/controls",
            "_model_module_version": "1.5.0",
            "_view_count": null,
            "_view_module_version": "1.5.0",
            "box_style": "",
            "layout": "IPY_MODEL_8fe09675ccdc4ae39d556b47b46f14e4",
            "_model_module": "@jupyter-widgets/controls",
            "children": [
              "IPY_MODEL_85cd0473896e4d788d9c5ac227594b86",
              "IPY_MODEL_f72b57166f9641cdbbdafeffc608a53b"
            ]
          }
        },
        "06128ca16ff245089e8ab5268042a0a2": {
          "model_module": "@jupyter-widgets/controls",
          "model_name": "HTMLModel",
          "state": {
            "_view_name": "HTMLView",
            "style": "IPY_MODEL_aee70404ad0d49d28db82f35868d316a",
            "_dom_classes": [],
            "description": "",
            "_model_name": "HTMLModel",
            "placeholder": "​",
            "_view_module": "@jupyter-widgets/controls",
            "_model_module_version": "1.5.0",
            "value": "<div align='center'><h3> Matrix  is Nilpotent matrix with index:4</h3></div>",
            "_view_count": null,
            "_view_module_version": "1.5.0",
            "description_tooltip": null,
            "_model_module": "@jupyter-widgets/controls",
            "layout": "IPY_MODEL_d556b48ae4b0414aa01d56a047bab162"
          }
        },
        "62a0cd744ff44045b277e857ae8a9815": {
          "model_module": "@jupyter-widgets/controls",
          "model_name": "DescriptionStyleModel",
          "state": {
            "_view_name": "StyleView",
            "_model_name": "DescriptionStyleModel",
            "description_width": "",
            "_view_module": "@jupyter-widgets/base",
            "_model_module_version": "1.5.0",
            "_view_count": null,
            "_view_module_version": "1.2.0",
            "_model_module": "@jupyter-widgets/controls"
          }
        },
        "a6b7ec225f9a4e6dbc4b75e32ce0c324": {
          "model_module": "@jupyter-widgets/base",
          "model_name": "LayoutModel",
          "state": {
            "_view_name": "LayoutView",
            "grid_template_rows": null,
            "right": null,
            "justify_content": null,
            "_view_module": "@jupyter-widgets/base",
            "overflow": null,
            "_model_module_version": "1.2.0",
            "_view_count": null,
            "flex_flow": null,
            "width": null,
            "min_width": null,
            "border": null,
            "align_items": null,
            "bottom": null,
            "_model_module": "@jupyter-widgets/base",
            "top": null,
            "grid_column": null,
            "overflow_y": null,
            "overflow_x": null,
            "grid_auto_flow": null,
            "grid_area": null,
            "grid_template_columns": null,
            "flex": null,
            "_model_name": "LayoutModel",
            "justify_items": null,
            "grid_row": null,
            "max_height": null,
            "align_content": null,
            "visibility": null,
            "align_self": null,
            "height": null,
            "min_height": null,
            "padding": null,
            "grid_auto_rows": null,
            "grid_gap": null,
            "max_width": null,
            "order": null,
            "_view_module_version": "1.2.0",
            "grid_template_areas": null,
            "object_position": null,
            "object_fit": null,
            "grid_auto_columns": null,
            "margin": null,
            "display": null,
            "left": null
          }
        },
        "8fe09675ccdc4ae39d556b47b46f14e4": {
          "model_module": "@jupyter-widgets/base",
          "model_name": "LayoutModel",
          "state": {
            "_view_name": "LayoutView",
            "grid_template_rows": null,
            "right": null,
            "justify_content": null,
            "_view_module": "@jupyter-widgets/base",
            "overflow": null,
            "_model_module_version": "1.2.0",
            "_view_count": null,
            "flex_flow": null,
            "width": null,
            "min_width": null,
            "border": null,
            "align_items": null,
            "bottom": null,
            "_model_module": "@jupyter-widgets/base",
            "top": null,
            "grid_column": null,
            "overflow_y": null,
            "overflow_x": null,
            "grid_auto_flow": null,
            "grid_area": null,
            "grid_template_columns": null,
            "flex": null,
            "_model_name": "LayoutModel",
            "justify_items": null,
            "grid_row": null,
            "max_height": null,
            "align_content": null,
            "visibility": null,
            "align_self": null,
            "height": null,
            "min_height": null,
            "padding": null,
            "grid_auto_rows": null,
            "grid_gap": null,
            "max_width": null,
            "order": null,
            "_view_module_version": "1.2.0",
            "grid_template_areas": null,
            "object_position": null,
            "object_fit": null,
            "grid_auto_columns": null,
            "margin": null,
            "display": null,
            "left": null
          }
        },
        "85cd0473896e4d788d9c5ac227594b86": {
          "model_module": "@jupyter-widgets/controls",
          "model_name": "TextModel",
          "state": {
            "_view_name": "TextView",
            "style": "IPY_MODEL_bec3e5c8bf224893816730dd7e1faa08",
            "_dom_classes": [],
            "description": "Input:",
            "_model_name": "TextModel",
            "placeholder": "Enter NXN values ",
            "_view_module": "@jupyter-widgets/controls",
            "_model_module_version": "1.5.0",
            "value": "0 2 1 6 0 0 1 2  0 0 0 3 0 0 0 0",
            "_view_count": null,
            "disabled": false,
            "_view_module_version": "1.5.0",
            "continuous_update": true,
            "description_tooltip": null,
            "_model_module": "@jupyter-widgets/controls",
            "layout": "IPY_MODEL_fdadfdfaf2b64e628a8fa4a0cb0efea8"
          }
        },
        "f72b57166f9641cdbbdafeffc608a53b": {
          "model_module": "@jupyter-widgets/controls",
          "model_name": "ButtonModel",
          "state": {
            "_view_name": "ButtonView",
            "style": "IPY_MODEL_3345519bb7a249f5a7841ba110f019f6",
            "_dom_classes": [],
            "description": "Check",
            "_model_name": "ButtonModel",
            "button_style": "",
            "_view_module": "@jupyter-widgets/controls",
            "_model_module_version": "1.5.0",
            "tooltip": "",
            "_view_count": null,
            "disabled": false,
            "_view_module_version": "1.5.0",
            "layout": "IPY_MODEL_5e2a5fc876fd4d709ddb2ed4e05f4abf",
            "_model_module": "@jupyter-widgets/controls",
            "icon": ""
          }
        },
        "aee70404ad0d49d28db82f35868d316a": {
          "model_module": "@jupyter-widgets/controls",
          "model_name": "DescriptionStyleModel",
          "state": {
            "_view_name": "StyleView",
            "_model_name": "DescriptionStyleModel",
            "description_width": "",
            "_view_module": "@jupyter-widgets/base",
            "_model_module_version": "1.5.0",
            "_view_count": null,
            "_view_module_version": "1.2.0",
            "_model_module": "@jupyter-widgets/controls"
          }
        },
        "d556b48ae4b0414aa01d56a047bab162": {
          "model_module": "@jupyter-widgets/base",
          "model_name": "LayoutModel",
          "state": {
            "_view_name": "LayoutView",
            "grid_template_rows": null,
            "right": null,
            "justify_content": null,
            "_view_module": "@jupyter-widgets/base",
            "overflow": null,
            "_model_module_version": "1.2.0",
            "_view_count": null,
            "flex_flow": null,
            "width": null,
            "min_width": null,
            "border": null,
            "align_items": null,
            "bottom": null,
            "_model_module": "@jupyter-widgets/base",
            "top": null,
            "grid_column": null,
            "overflow_y": null,
            "overflow_x": null,
            "grid_auto_flow": null,
            "grid_area": null,
            "grid_template_columns": null,
            "flex": null,
            "_model_name": "LayoutModel",
            "justify_items": null,
            "grid_row": null,
            "max_height": null,
            "align_content": null,
            "visibility": null,
            "align_self": null,
            "height": null,
            "min_height": null,
            "padding": null,
            "grid_auto_rows": null,
            "grid_gap": null,
            "max_width": null,
            "order": null,
            "_view_module_version": "1.2.0",
            "grid_template_areas": null,
            "object_position": null,
            "object_fit": null,
            "grid_auto_columns": null,
            "margin": "0px 0px 40px 0px",
            "display": null,
            "left": null
          }
        },
        "bec3e5c8bf224893816730dd7e1faa08": {
          "model_module": "@jupyter-widgets/controls",
          "model_name": "DescriptionStyleModel",
          "state": {
            "_view_name": "StyleView",
            "_model_name": "DescriptionStyleModel",
            "description_width": "",
            "_view_module": "@jupyter-widgets/base",
            "_model_module_version": "1.5.0",
            "_view_count": null,
            "_view_module_version": "1.2.0",
            "_model_module": "@jupyter-widgets/controls"
          }
        },
        "fdadfdfaf2b64e628a8fa4a0cb0efea8": {
          "model_module": "@jupyter-widgets/base",
          "model_name": "LayoutModel",
          "state": {
            "_view_name": "LayoutView",
            "grid_template_rows": null,
            "right": null,
            "justify_content": null,
            "_view_module": "@jupyter-widgets/base",
            "overflow": null,
            "_model_module_version": "1.2.0",
            "_view_count": null,
            "flex_flow": null,
            "width": null,
            "min_width": null,
            "border": null,
            "align_items": null,
            "bottom": null,
            "_model_module": "@jupyter-widgets/base",
            "top": null,
            "grid_column": null,
            "overflow_y": null,
            "overflow_x": null,
            "grid_auto_flow": null,
            "grid_area": null,
            "grid_template_columns": null,
            "flex": null,
            "_model_name": "LayoutModel",
            "justify_items": null,
            "grid_row": null,
            "max_height": null,
            "align_content": null,
            "visibility": null,
            "align_self": null,
            "height": null,
            "min_height": null,
            "padding": null,
            "grid_auto_rows": null,
            "grid_gap": null,
            "max_width": null,
            "order": null,
            "_view_module_version": "1.2.0",
            "grid_template_areas": null,
            "object_position": null,
            "object_fit": null,
            "grid_auto_columns": null,
            "margin": null,
            "display": null,
            "left": null
          }
        },
        "3345519bb7a249f5a7841ba110f019f6": {
          "model_module": "@jupyter-widgets/controls",
          "model_name": "ButtonStyleModel",
          "state": {
            "_view_name": "StyleView",
            "_model_name": "ButtonStyleModel",
            "_view_module": "@jupyter-widgets/base",
            "_model_module_version": "1.5.0",
            "_view_count": null,
            "button_color": null,
            "font_weight": "",
            "_view_module_version": "1.2.0",
            "_model_module": "@jupyter-widgets/controls"
          }
        },
        "5e2a5fc876fd4d709ddb2ed4e05f4abf": {
          "model_module": "@jupyter-widgets/base",
          "model_name": "LayoutModel",
          "state": {
            "_view_name": "LayoutView",
            "grid_template_rows": null,
            "right": null,
            "justify_content": null,
            "_view_module": "@jupyter-widgets/base",
            "overflow": null,
            "_model_module_version": "1.2.0",
            "_view_count": null,
            "flex_flow": null,
            "width": null,
            "min_width": null,
            "border": null,
            "align_items": null,
            "bottom": null,
            "_model_module": "@jupyter-widgets/base",
            "top": null,
            "grid_column": null,
            "overflow_y": null,
            "overflow_x": null,
            "grid_auto_flow": null,
            "grid_area": null,
            "grid_template_columns": null,
            "flex": null,
            "_model_name": "LayoutModel",
            "justify_items": null,
            "grid_row": null,
            "max_height": null,
            "align_content": null,
            "visibility": null,
            "align_self": null,
            "height": null,
            "min_height": null,
            "padding": null,
            "grid_auto_rows": null,
            "grid_gap": null,
            "max_width": null,
            "order": null,
            "_view_module_version": "1.2.0",
            "grid_template_areas": null,
            "object_position": null,
            "object_fit": null,
            "grid_auto_columns": null,
            "margin": null,
            "display": null,
            "left": null
          }
        }
      }
    }
  },
  "cells": [
    {
      "cell_type": "markdown",
      "metadata": {
        "id": "view-in-github",
        "colab_type": "text"
      },
      "source": [
        "<a href=\"https://colab.research.google.com/github/nikhilreddybilla28/acadacs/blob/main/nilpotentapp.ipynb\" target=\"_parent\"><img src=\"https://colab.research.google.com/assets/colab-badge.svg\" alt=\"Open In Colab\"/></a>"
      ]
    },
    {
      "cell_type": "markdown",
      "metadata": {
        "id": "bEcQ_oN8icjT"
      },
      "source": [
        "###  ACS PROJECT\n"
      ]
    },
    {
      "cell_type": "markdown",
      "metadata": {
        "id": "1rka0BA8U4BY"
      },
      "source": [
        "\n",
        "*Given a N * N matrix and the task is to check matrix is Nilpotent or not.*\n",
        "   \n",
        "   \n",
        "Nilpotent Matrix: A square matrix  A  is called nilpotent matrix of order  k  provided it satisfies the relation,  A^k=O  and  A^k−1≠O,  where  k  is a positive integer &  O  is a null matrix of order  k  and  k  is the order of the nilpotent matrix  A .\n",
        "\n",
        "The characteristic polynomial of any n×n matrix is of degree at most n, and the matrix is a root of that polynomial.\n",
        "\n",
        "Since the minimal polynomial of a nilpotent must divide x^N for some N, and it also divides the characteristic polynomial, you have that the minimal polynomial is of the form x^k for some 0≤k≤n.So the index(k) of an n × n nilpotent matrix is always less than or equal to order of matrix(n).\n",
        "\n",
        "    ***Algorithm***\n",
        "\n",
        "    p=1\n",
        "\n",
        "    while p < n:  #iter till order or matrix\n",
        "\n",
        "        if A^p == O:\n",
        "           return Nilpotent\n",
        "\n",
        "        else:\n",
        "           p=p+1\n",
        "\n",
        "    return not a nilpotent matrix"
      ]
    },
    {
      "cell_type": "code",
      "metadata": {
        "id": "hqs66nkAU5Kz"
      },
      "source": [
        "import pandas as pd\n",
        "import numpy as np\n",
        "def check_nilpotent(a):\n",
        "    n=int(len(a))\n",
        "    O=np.zeros((n,n), dtype=int)\n",
        "    m=np.array(a, dtype=int)\n",
        "    R=np.array(m, dtype=int)\n",
        "    k=1\n",
        "    print(f'M :')\n",
        "    print(R)\n",
        "    #pd.DataFrame(R)\n",
        "    if np.array_equal(R,O):\n",
        "        return  'Nilpotent matrix with index: 1'\n",
        "    else:\n",
        "        while k<n:\n",
        "            R = np.dot(R,m)\n",
        "            print(f'M^{k+1} : ')\n",
        "            print(R)\n",
        "            if np.array_equal(R,O):\n",
        "                return  f'Nilpotent matrix with index:{k+1}'\n",
        "                #break\n",
        "            k+=1\n",
        "        if k==n:\n",
        "            return 'Not a Nilpotent matrix'"
      ],
      "execution_count": 1,
      "outputs": []
    },
    {
      "cell_type": "code",
      "metadata": {
        "colab": {
          "base_uri": "https://localhost:8080/",
          "height": 493,
          "referenced_widgets": [
            "b2f4ecaaf111476ca2670cbc6779410d",
            "9ff0b0a480f84bed8515d4ae4d7227ee",
            "c5cd0c027fd04b2f91cfa23635a840f4",
            "f1301c3403d94db8a1eb782e3a5679c0",
            "06128ca16ff245089e8ab5268042a0a2",
            "62a0cd744ff44045b277e857ae8a9815",
            "a6b7ec225f9a4e6dbc4b75e32ce0c324",
            "8fe09675ccdc4ae39d556b47b46f14e4",
            "85cd0473896e4d788d9c5ac227594b86",
            "f72b57166f9641cdbbdafeffc608a53b",
            "aee70404ad0d49d28db82f35868d316a",
            "d556b48ae4b0414aa01d56a047bab162",
            "bec3e5c8bf224893816730dd7e1faa08",
            "fdadfdfaf2b64e628a8fa4a0cb0efea8",
            "3345519bb7a249f5a7841ba110f019f6",
            "5e2a5fc876fd4d709ddb2ed4e05f4abf"
          ]
        },
        "id": "-bv04LptW77l",
        "outputId": "af505a77-3376-40cd-9afc-dac0a8b4c4af"
      },
      "source": [
        "# interface\n",
        "import ipywidgets as widgets\n",
        "from IPython.display import display\n",
        "\n",
        "def classify_on_click(btn):\n",
        "  txt\n",
        "  print(txt.value)\n",
        "  ar=[int(x) for x in txt.value.split()]\n",
        "  n=int(len(ar)**0.5)\n",
        "  M=np.reshape(ar,(n,n))\n",
        "  pred = check_nilpotent(M)\n",
        "\n",
        "  html = \"<div align='center'>\"\n",
        "  html += \"<h3> Matrix  is \" + str(pred) + \"</h3>\"\n",
        "  html += \"</div>\"\n",
        "  htmlResult.value = html\n",
        "\n",
        "\n",
        "htmlImage = widgets.HTML(value=\"\")\n",
        "\n",
        "txt = widgets.Text(\n",
        "    placeholder='Enter NXN values ',\n",
        "    description='Input:',\n",
        "    disabled=False\n",
        ")\n",
        "'''txt\n",
        "print(txt.value)\n",
        "ar=[int(x) for x in txt.value.split()]\n",
        "n=int(len(ar)**0.5)\n",
        "M=np.reshape(ar,(n,n))'''\n",
        "\n",
        "btnClassify = widgets.Button(description=\"Check\")\n",
        "btnClassify.on_click(classify_on_click)\n",
        "boxH = widgets.HBox([txt , btnClassify])\n",
        "\n",
        "htmlResult = widgets.HTML(value=\"<h3> check matrix is Nilpotent or not </h3>\")\n",
        "htmlResult.layout.margin = \"0px 0px 40px 0px\"\n",
        "\n",
        "boxV = widgets.VBox([htmlImage, boxH, htmlResult])\n",
        "\n",
        "boxV.layout.align_items = \"center\"\n",
        "display(boxV)"
      ],
      "execution_count": 4,
      "outputs": [
        {
          "output_type": "display_data",
          "data": {
            "application/vnd.jupyter.widget-view+json": {
              "model_id": "b2f4ecaaf111476ca2670cbc6779410d",
              "version_minor": 0,
              "version_major": 2
            },
            "text/plain": [
              "VBox(children=(HTML(value=''), HBox(children=(Text(value='', description='Input:', placeholder='Enter NXN valu…"
            ]
          },
          "metadata": {
            "tags": []
          }
        },
        {
          "output_type": "stream",
          "text": [
            "0 2 1 6 0 0 1 2  0 0 0 3 0 0 0 0\n",
            "M :\n",
            "[[0 2 1 6]\n",
            " [0 0 1 2]\n",
            " [0 0 0 3]\n",
            " [0 0 0 0]]\n",
            "M^2 : \n",
            "[[0 0 2 7]\n",
            " [0 0 0 3]\n",
            " [0 0 0 0]\n",
            " [0 0 0 0]]\n",
            "M^3 : \n",
            "[[0 0 0 6]\n",
            " [0 0 0 0]\n",
            " [0 0 0 0]\n",
            " [0 0 0 0]]\n",
            "M^4 : \n",
            "[[0 0 0 0]\n",
            " [0 0 0 0]\n",
            " [0 0 0 0]\n",
            " [0 0 0 0]]\n"
          ],
          "name": "stdout"
        }
      ]
    },
    {
      "cell_type": "code",
      "metadata": {
        "id": "-C-kIAdPkgFg"
      },
      "source": [
        ""
      ],
      "execution_count": null,
      "outputs": []
    },
    {
      "cell_type": "markdown",
      "metadata": {
        "id": "n18ffz97iLwR"
      },
      "source": [
        "\n",
        " For example, the matrix B,\n",
        "\n",
        "B=\\begin{bmatrix} \n",
        "0 & 2 & 1 & 6\\\\\n",
        "0 & 0 & 1 & 2\\\\\n",
        "0 & 0 & 0 & 3\\\\\n",
        "0 & 0 & 0 & 0 \n",
        "\\end{bmatrix}\n",
        "\n",
        "B^2=\\begin{bmatrix} \n",
        "0 & 0 & 2 & 7\\\\\n",
        "0 & 0 & 0 & 3\\\\\n",
        "0 & 0 & 0 & 0\\\\\n",
        "0 & 0 & 0 & 0 \n",
        "\\end{bmatrix}\n",
        "\n",
        "B^3=\\begin{bmatrix} \n",
        "0 & 0 & 0 & 6\\\\\n",
        "0 & 0 & 0 & 0\\\\\n",
        "0 & 0 & 0 & 0\\\\\n",
        "0 & 0 & 0 & 0 \n",
        "\\end{bmatrix}\n",
        "\n",
        " \n",
        "B^4=\\begin{bmatrix} \n",
        "0 & 0 & 0 & 0\\\\\n",
        "0 & 0 & 0 & 0\\\\\n",
        "0 & 0 & 0 & 0\\\\\n",
        "0 & 0 & 0 & 0 \n",
        "\\end{bmatrix}\n",
        "\n",
        "\n",
        "The index of <math>B</math> is therefore 4\n",
        "\n",
        "\n",
        "     "
      ]
    },
    {
      "cell_type": "markdown",
      "metadata": {
        "id": "kQKOoiNSjF5r"
      },
      "source": [
        "    118EE0326\n",
        "    Nikhil Reddy"
      ]
    },
    {
      "cell_type": "code",
      "metadata": {
        "id": "XNEfaGOViTzK"
      },
      "source": [
        ""
      ],
      "execution_count": null,
      "outputs": []
    }
  ]
}